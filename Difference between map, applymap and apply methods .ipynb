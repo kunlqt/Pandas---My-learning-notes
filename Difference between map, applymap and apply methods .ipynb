{
 "cells": [
  {
   "cell_type": "code",
   "execution_count": 1,
   "metadata": {},
   "outputs": [],
   "source": [
    "#https://stackoverflow.com/questions/19798153/difference-between-map-applymap-and-apply-methods-in-pandas\n",
    "import pandas as pd\n",
    "import numpy as np"
   ]
  },
  {
   "cell_type": "code",
   "execution_count": 8,
   "metadata": {},
   "outputs": [
    {
     "data": {
      "text/html": [
       "<div>\n",
       "<style scoped>\n",
       "    .dataframe tbody tr th:only-of-type {\n",
       "        vertical-align: middle;\n",
       "    }\n",
       "\n",
       "    .dataframe tbody tr th {\n",
       "        vertical-align: top;\n",
       "    }\n",
       "\n",
       "    .dataframe thead th {\n",
       "        text-align: right;\n",
       "    }\n",
       "</style>\n",
       "<table border=\"1\" class=\"dataframe\">\n",
       "  <thead>\n",
       "    <tr style=\"text-align: right;\">\n",
       "      <th></th>\n",
       "      <th>a</th>\n",
       "      <th>b</th>\n",
       "      <th>c</th>\n",
       "      <th>d</th>\n",
       "      <th>e</th>\n",
       "    </tr>\n",
       "  </thead>\n",
       "  <tbody>\n",
       "    <tr>\n",
       "      <th>i1</th>\n",
       "      <td>0.457927</td>\n",
       "      <td>-1.367125</td>\n",
       "      <td>0.098990</td>\n",
       "      <td>0.209963</td>\n",
       "      <td>-0.554169</td>\n",
       "    </tr>\n",
       "    <tr>\n",
       "      <th>i2</th>\n",
       "      <td>-1.804671</td>\n",
       "      <td>1.012876</td>\n",
       "      <td>-0.745989</td>\n",
       "      <td>-0.287747</td>\n",
       "      <td>-1.420975</td>\n",
       "    </tr>\n",
       "    <tr>\n",
       "      <th>i3</th>\n",
       "      <td>0.198437</td>\n",
       "      <td>0.498339</td>\n",
       "      <td>0.542231</td>\n",
       "      <td>-0.427908</td>\n",
       "      <td>0.482417</td>\n",
       "    </tr>\n",
       "    <tr>\n",
       "      <th>i4</th>\n",
       "      <td>0.492413</td>\n",
       "      <td>-0.857842</td>\n",
       "      <td>-0.978174</td>\n",
       "      <td>-0.236399</td>\n",
       "      <td>0.789442</td>\n",
       "    </tr>\n",
       "    <tr>\n",
       "      <th>i5</th>\n",
       "      <td>-0.845942</td>\n",
       "      <td>-0.236043</td>\n",
       "      <td>-1.652472</td>\n",
       "      <td>-0.878454</td>\n",
       "      <td>0.677147</td>\n",
       "    </tr>\n",
       "  </tbody>\n",
       "</table>\n",
       "</div>"
      ],
      "text/plain": [
       "           a         b         c         d         e\n",
       "i1  0.457927 -1.367125  0.098990  0.209963 -0.554169\n",
       "i2 -1.804671  1.012876 -0.745989 -0.287747 -1.420975\n",
       "i3  0.198437  0.498339  0.542231 -0.427908  0.482417\n",
       "i4  0.492413 -0.857842 -0.978174 -0.236399  0.789442\n",
       "i5 -0.845942 -0.236043 -1.652472 -0.878454  0.677147"
      ]
     },
     "execution_count": 8,
     "metadata": {},
     "output_type": "execute_result"
    }
   ],
   "source": [
    "df_a = pd.DataFrame(np.random.randn(5,5),columns=list('abcde'),index=['i1','i2','i3','i4','i5'])\n",
    "df_a"
   ]
  },
  {
   "cell_type": "code",
   "execution_count": 14,
   "metadata": {},
   "outputs": [
    {
     "name": "stdout",
     "output_type": "stream",
     "text": [
      "a    0.492413\n",
      "b    1.012876\n",
      "c    0.542231\n",
      "d    0.209963\n",
      "e    0.789442\n",
      "dtype: float64\n",
      "a   -1.804671\n",
      "b   -1.367125\n",
      "c   -1.652472\n",
      "d   -0.878454\n",
      "e   -1.420975\n",
      "dtype: float64\n"
     ]
    }
   ],
   "source": [
    "# applying a function on 1D arrays to each column or row\n",
    "f_max = lambda x: x.max()\n",
    "print(df_a.apply(f_max))\n",
    "\n",
    "f_min = lambda x: x.min()\n",
    "print(df_a.apply(f_min))"
   ]
  },
  {
   "cell_type": "code",
   "execution_count": 17,
   "metadata": {},
   "outputs": [
    {
     "name": "stdout",
     "output_type": "stream",
     "text": [
      "        a      b      c      d      e\n",
      "i1   0.46  -1.37   0.10   0.21  -0.55\n",
      "i2  -1.80   1.01  -0.75  -0.29  -1.42\n",
      "i3   0.20   0.50   0.54  -0.43   0.48\n",
      "i4   0.49  -0.86  -0.98  -0.24   0.79\n",
      "i5  -0.85  -0.24  -1.65  -0.88   0.68\n"
     ]
    }
   ],
   "source": [
    "#  Element-wise Python functions\n",
    "# applymap\n",
    "f_format = lambda x: '%.2f' % x\n",
    "\n",
    "print(df_a.applymap(f_format))"
   ]
  },
  {
   "cell_type": "code",
   "execution_count": 19,
   "metadata": {},
   "outputs": [
    {
     "data": {
      "text/plain": [
       "i1     0.46\n",
       "i2    -1.80\n",
       "i3     0.20\n",
       "i4     0.49\n",
       "i5    -0.85\n",
       "Name: a, dtype: object"
      ]
     },
     "execution_count": 19,
     "metadata": {},
     "output_type": "execute_result"
    }
   ],
   "source": [
    "#a map method for applying an element-wise function:\n",
    "df_a['a'].map(f_format)"
   ]
  }
 ],
 "metadata": {
  "kernelspec": {
   "display_name": "Python 3",
   "language": "python",
   "name": "python3"
  },
  "language_info": {
   "codemirror_mode": {
    "name": "ipython",
    "version": 3
   },
   "file_extension": ".py",
   "mimetype": "text/x-python",
   "name": "python",
   "nbconvert_exporter": "python",
   "pygments_lexer": "ipython3",
   "version": "3.6.4"
  }
 },
 "nbformat": 4,
 "nbformat_minor": 2
}
