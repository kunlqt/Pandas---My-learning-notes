{
 "cells": [
  {
   "cell_type": "code",
   "execution_count": null,
   "metadata": {},
   "outputs": [],
   "source": []
  },
  {
   "cell_type": "code",
   "execution_count": 16,
   "metadata": {},
   "outputs": [],
   "source": [
    "import pandas as pd\n",
    "\n",
    "dsProgReports = pd.read_csv('C:\\VIVEK\\GIT\\Pandas---My-learning-notes\\Datasets\\School_Progress_Reports_-_All_Schools_-_2010-11.csv')\n",
    "#df_progressReport"
   ]
  },
  {
   "cell_type": "code",
   "execution_count": 17,
   "metadata": {},
   "outputs": [],
   "source": [
    "df_DistrictTable = pd.read_csv('C:\\VIVEK\\GIT\\Pandas---My-learning-notes\\Datasets\\DistrictTable.csv')\n",
    "#df_DistrictTable"
   ]
  },
  {
   "cell_type": "code",
   "execution_count": 18,
   "metadata": {},
   "outputs": [],
   "source": [
    "dsDistrict  = pd.read_csv('C:\\VIVEK\\GIT\\Pandas---My-learning-notes\\Datasets\\School_District_Breakdowns.csv')\n",
    "#df_School_District_Breakdowns.info()"
   ]
  },
  {
   "cell_type": "code",
   "execution_count": null,
   "metadata": {},
   "outputs": [],
   "source": []
  }
 ],
 "metadata": {
  "kernelspec": {
   "display_name": "Python 3",
   "language": "python",
   "name": "python3"
  },
  "language_info": {
   "codemirror_mode": {
    "name": "ipython",
    "version": 3
   },
   "file_extension": ".py",
   "mimetype": "text/x-python",
   "name": "python",
   "nbconvert_exporter": "python",
   "pygments_lexer": "ipython3",
   "version": "3.6.3"
  }
 },
 "nbformat": 4,
 "nbformat_minor": 2
}
