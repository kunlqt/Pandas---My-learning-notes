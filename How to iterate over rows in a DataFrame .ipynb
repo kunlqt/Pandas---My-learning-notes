{
 "cells": [
  {
   "cell_type": "code",
   "execution_count": 1,
   "metadata": {},
   "outputs": [],
   "source": [
    "#https://stackoverflow.com/questions/16476924/how-to-iterate-over-rows-in-a-dataframe-in-pandas\n",
    "import pandas as pd\n",
    "import numpy as np"
   ]
  },
  {
   "cell_type": "code",
   "execution_count": 7,
   "metadata": {},
   "outputs": [
    {
     "data": {
      "text/html": [
       "<div>\n",
       "<style scoped>\n",
       "    .dataframe tbody tr th:only-of-type {\n",
       "        vertical-align: middle;\n",
       "    }\n",
       "\n",
       "    .dataframe tbody tr th {\n",
       "        vertical-align: top;\n",
       "    }\n",
       "\n",
       "    .dataframe thead th {\n",
       "        text-align: right;\n",
       "    }\n",
       "</style>\n",
       "<table border=\"1\" class=\"dataframe\">\n",
       "  <thead>\n",
       "    <tr style=\"text-align: right;\">\n",
       "      <th></th>\n",
       "      <th>a</th>\n",
       "      <th>b</th>\n",
       "      <th>e</th>\n",
       "    </tr>\n",
       "  </thead>\n",
       "  <tbody>\n",
       "    <tr>\n",
       "      <th>0</th>\n",
       "      <td>-1.097763</td>\n",
       "      <td>9.0</td>\n",
       "      <td>0</td>\n",
       "    </tr>\n",
       "    <tr>\n",
       "      <th>1</th>\n",
       "      <td>0.763393</td>\n",
       "      <td>3.0</td>\n",
       "      <td>1</td>\n",
       "    </tr>\n",
       "    <tr>\n",
       "      <th>2</th>\n",
       "      <td>0.927238</td>\n",
       "      <td>9.0</td>\n",
       "      <td>2</td>\n",
       "    </tr>\n",
       "    <tr>\n",
       "      <th>3</th>\n",
       "      <td>-0.089845</td>\n",
       "      <td>9.0</td>\n",
       "      <td>3</td>\n",
       "    </tr>\n",
       "    <tr>\n",
       "      <th>4</th>\n",
       "      <td>0.515661</td>\n",
       "      <td>NaN</td>\n",
       "      <td>4</td>\n",
       "    </tr>\n",
       "    <tr>\n",
       "      <th>5</th>\n",
       "      <td>2.057149</td>\n",
       "      <td>3.0</td>\n",
       "      <td>0</td>\n",
       "    </tr>\n",
       "    <tr>\n",
       "      <th>6</th>\n",
       "      <td>0.823967</td>\n",
       "      <td>6.0</td>\n",
       "      <td>1</td>\n",
       "    </tr>\n",
       "    <tr>\n",
       "      <th>7</th>\n",
       "      <td>0.768685</td>\n",
       "      <td>9.0</td>\n",
       "      <td>2</td>\n",
       "    </tr>\n",
       "    <tr>\n",
       "      <th>8</th>\n",
       "      <td>-0.026568</td>\n",
       "      <td>3.0</td>\n",
       "      <td>3</td>\n",
       "    </tr>\n",
       "    <tr>\n",
       "      <th>9</th>\n",
       "      <td>0.776757</td>\n",
       "      <td>NaN</td>\n",
       "      <td>4</td>\n",
       "    </tr>\n",
       "  </tbody>\n",
       "</table>\n",
       "</div>"
      ],
      "text/plain": [
       "          a    b  e\n",
       "0 -1.097763  9.0  0\n",
       "1  0.763393  3.0  1\n",
       "2  0.927238  9.0  2\n",
       "3 -0.089845  9.0  3\n",
       "4  0.515661  NaN  4\n",
       "5  2.057149  3.0  0\n",
       "6  0.823967  6.0  1\n",
       "7  0.768685  9.0  2\n",
       "8 -0.026568  3.0  3\n",
       "9  0.776757  NaN  4"
      ]
     },
     "execution_count": 7,
     "metadata": {},
     "output_type": "execute_result"
    }
   ],
   "source": [
    "int_array_length=10\n",
    "df_a = pd.DataFrame({\n",
    "    'a': np.random.randn(int_array_length),    \n",
    "    'b': np.random.choice([3,6,9,np.nan],int_array_length),\n",
    "    'e': np.tile(range(5),2)\n",
    "})\n",
    "df_a"
   ]
  },
  {
   "cell_type": "code",
   "execution_count": 20,
   "metadata": {},
   "outputs": [
    {
     "name": "stdout",
     "output_type": "stream",
     "text": [
      "0\n",
      "a   -1.097763\n",
      "b    9.000000\n",
      "e    0.000000\n",
      "Name: 0, dtype: float64\n",
      "0\n",
      "9.0\n",
      "1\n",
      "a    0.763393\n",
      "b    3.000000\n",
      "e    1.000000\n",
      "Name: 1, dtype: float64\n",
      "1\n",
      "3.0\n",
      "2\n",
      "a    0.927238\n",
      "b    9.000000\n",
      "e    2.000000\n",
      "Name: 2, dtype: float64\n",
      "2\n",
      "9.0\n",
      "3\n",
      "a   -0.089845\n",
      "b    9.000000\n",
      "e    3.000000\n",
      "Name: 3, dtype: float64\n",
      "3\n",
      "9.0\n",
      "4\n",
      "a    0.515661\n",
      "b         NaN\n",
      "e    4.000000\n",
      "Name: 4, dtype: float64\n",
      "4\n",
      "nan\n",
      "5\n",
      "a    2.057149\n",
      "b    3.000000\n",
      "e    0.000000\n",
      "Name: 5, dtype: float64\n",
      "5\n",
      "3.0\n",
      "6\n",
      "a    0.823967\n",
      "b    6.000000\n",
      "e    1.000000\n",
      "Name: 6, dtype: float64\n",
      "6\n",
      "6.0\n",
      "7\n",
      "a    0.768685\n",
      "b    9.000000\n",
      "e    2.000000\n",
      "Name: 7, dtype: float64\n",
      "7\n",
      "9.0\n",
      "8\n",
      "a   -0.026568\n",
      "b    3.000000\n",
      "e    3.000000\n",
      "Name: 8, dtype: float64\n",
      "8\n",
      "3.0\n",
      "9\n",
      "a    0.776757\n",
      "b         NaN\n",
      "e    4.000000\n",
      "Name: 9, dtype: float64\n",
      "9\n",
      "nan\n"
     ]
    }
   ],
   "source": [
    "for i,row in df_a.iterrows():\n",
    "    print(\"{}\\n{}\".format(str(i),row))\n",
    "    print(\"{}\\n{}\".format(str(i),row['b']))"
   ]
  },
  {
   "cell_type": "code",
   "execution_count": 21,
   "metadata": {},
   "outputs": [
    {
     "name": "stdout",
     "output_type": "stream",
     "text": [
      "Pandas(Index=0, a=-1.0977631482647612, b=9.0, e=0)\n",
      "9.0\n",
      "Pandas(Index=1, a=0.7633926316805845, b=3.0, e=1)\n",
      "3.0\n",
      "Pandas(Index=2, a=0.9272379098077294, b=9.0, e=2)\n",
      "9.0\n",
      "Pandas(Index=3, a=-0.08984500680765234, b=9.0, e=3)\n",
      "9.0\n",
      "Pandas(Index=4, a=0.515661263069276, b=nan, e=4)\n",
      "nan\n",
      "Pandas(Index=5, a=2.057148710866046, b=3.0, e=0)\n",
      "3.0\n",
      "Pandas(Index=6, a=0.823967076369382, b=6.0, e=1)\n",
      "6.0\n",
      "Pandas(Index=7, a=0.7686854804515162, b=9.0, e=2)\n",
      "9.0\n",
      "Pandas(Index=8, a=-0.02656832002484609, b=3.0, e=3)\n",
      "3.0\n",
      "Pandas(Index=9, a=0.7767573114289807, b=nan, e=4)\n",
      "nan\n"
     ]
    }
   ],
   "source": [
    "for row in df_a.itertuples():\n",
    "    print('{}'.format(row))\n",
    "    print('{}'.format(getattr(row,'b')))"
   ]
  },
  {
   "cell_type": "code",
   "execution_count": 23,
   "metadata": {},
   "outputs": [
    {
     "data": {
      "text/plain": [
       "['a', 'b', 'e']"
      ]
     },
     "execution_count": 23,
     "metadata": {},
     "output_type": "execute_result"
    }
   ],
   "source": [
    "list(df_a)"
   ]
  },
  {
   "cell_type": "code",
   "execution_count": 26,
   "metadata": {},
   "outputs": [
    {
     "data": {
      "text/plain": [
       "['a', 'b', 'e']"
      ]
     },
     "execution_count": 26,
     "metadata": {},
     "output_type": "execute_result"
    }
   ],
   "source": [
    "df_a.columns.values.tolist()"
   ]
  },
  {
   "cell_type": "code",
   "execution_count": 30,
   "metadata": {},
   "outputs": [
    {
     "name": "stdout",
     "output_type": "stream",
     "text": [
      "          a    b  e\n",
      "0 -1.097763  9.0  0\n",
      "1  0.763393  3.0  1\n",
      "2  0.927238  9.0  2\n",
      "3 -0.089845  9.0  3\n",
      "4  0.515661  NaN  4\n",
      "5  2.057149  3.0  0\n",
      "6  0.823967  6.0  1\n",
      "7  0.768685  9.0  2\n",
      "8 -0.026568  3.0  3\n",
      "9  0.776757  NaN  4\n"
     ]
    },
    {
     "data": {
      "text/html": [
       "<div>\n",
       "<style scoped>\n",
       "    .dataframe tbody tr th:only-of-type {\n",
       "        vertical-align: middle;\n",
       "    }\n",
       "\n",
       "    .dataframe tbody tr th {\n",
       "        vertical-align: top;\n",
       "    }\n",
       "\n",
       "    .dataframe thead th {\n",
       "        text-align: right;\n",
       "    }\n",
       "</style>\n",
       "<table border=\"1\" class=\"dataframe\">\n",
       "  <thead>\n",
       "    <tr style=\"text-align: right;\">\n",
       "      <th></th>\n",
       "      <th>a</th>\n",
       "      <th>b</th>\n",
       "      <th>e</th>\n",
       "    </tr>\n",
       "  </thead>\n",
       "  <tbody>\n",
       "    <tr>\n",
       "      <th>0</th>\n",
       "      <td>-1.097763</td>\n",
       "      <td>9.0</td>\n",
       "      <td>0</td>\n",
       "    </tr>\n",
       "    <tr>\n",
       "      <th>1</th>\n",
       "      <td>0.763393</td>\n",
       "      <td>3.0</td>\n",
       "      <td>1</td>\n",
       "    </tr>\n",
       "    <tr>\n",
       "      <th>2</th>\n",
       "      <td>0.927238</td>\n",
       "      <td>9.0</td>\n",
       "      <td>2</td>\n",
       "    </tr>\n",
       "    <tr>\n",
       "      <th>3</th>\n",
       "      <td>-0.089845</td>\n",
       "      <td>9.0</td>\n",
       "      <td>3</td>\n",
       "    </tr>\n",
       "    <tr>\n",
       "      <th>5</th>\n",
       "      <td>2.057149</td>\n",
       "      <td>3.0</td>\n",
       "      <td>0</td>\n",
       "    </tr>\n",
       "    <tr>\n",
       "      <th>6</th>\n",
       "      <td>0.823967</td>\n",
       "      <td>6.0</td>\n",
       "      <td>1</td>\n",
       "    </tr>\n",
       "    <tr>\n",
       "      <th>7</th>\n",
       "      <td>0.768685</td>\n",
       "      <td>9.0</td>\n",
       "      <td>2</td>\n",
       "    </tr>\n",
       "    <tr>\n",
       "      <th>8</th>\n",
       "      <td>-0.026568</td>\n",
       "      <td>3.0</td>\n",
       "      <td>3</td>\n",
       "    </tr>\n",
       "  </tbody>\n",
       "</table>\n",
       "</div>"
      ],
      "text/plain": [
       "          a    b  e\n",
       "0 -1.097763  9.0  0\n",
       "1  0.763393  3.0  1\n",
       "2  0.927238  9.0  2\n",
       "3 -0.089845  9.0  3\n",
       "5  2.057149  3.0  0\n",
       "6  0.823967  6.0  1\n",
       "7  0.768685  9.0  2\n",
       "8 -0.026568  3.0  3"
      ]
     },
     "execution_count": 30,
     "metadata": {},
     "output_type": "execute_result"
    }
   ],
   "source": [
    "print(df_a)\n",
    "df_a[pd.notnull(df_a['b'])]"
   ]
  }
 ],
 "metadata": {
  "kernelspec": {
   "display_name": "Python 3",
   "language": "python",
   "name": "python3"
  },
  "language_info": {
   "codemirror_mode": {
    "name": "ipython",
    "version": 3
   },
   "file_extension": ".py",
   "mimetype": "text/x-python",
   "name": "python",
   "nbconvert_exporter": "python",
   "pygments_lexer": "ipython3",
   "version": "3.6.4"
  }
 },
 "nbformat": 4,
 "nbformat_minor": 2
}
