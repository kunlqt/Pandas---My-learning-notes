{
 "cells": [
  {
   "cell_type": "code",
   "execution_count": 1,
   "metadata": {},
   "outputs": [],
   "source": [
    "import pandas as pd"
   ]
  },
  {
   "cell_type": "code",
   "execution_count": 3,
   "metadata": {},
   "outputs": [],
   "source": [
    "columns = ['preg', 'plas', 'pres', 'skin', 'test', 'mass', 'pedi', 'age', 'class']\n",
    "data = pd.read_csv('C:\\VIVEK\\GIT\\pandas\\data\\TEST_DATA_pima-indians-diabetes.data', names=columns)"
   ]
  },
  {
   "cell_type": "code",
   "execution_count": 20,
   "metadata": {},
   "outputs": [
    {
     "name": "stdout",
     "output_type": "stream",
     "text": [
      "             preg        plas        pres        skin        test        mass  \\\n",
      "count  768.000000  768.000000  768.000000  768.000000  768.000000  768.000000   \n",
      "mean     3.845052  120.894531   69.105469   20.536458   79.799479   31.992578   \n",
      "std      3.369578   31.972618   19.355807   15.952218  115.244002    7.884160   \n",
      "min      0.000000    0.000000    0.000000    0.000000    0.000000    0.000000   \n",
      "25%      1.000000   99.000000   62.000000    0.000000    0.000000   27.300000   \n",
      "50%      3.000000  117.000000   72.000000   23.000000   30.500000   32.000000   \n",
      "75%      6.000000  140.250000   80.000000   32.000000  127.250000   36.600000   \n",
      "max     17.000000  199.000000  122.000000   99.000000  846.000000   67.100000   \n",
      "\n",
      "             pedi         age       class  \n",
      "count  768.000000  768.000000  768.000000  \n",
      "mean     0.471876   33.240885    0.348958  \n",
      "std      0.331329   11.760232    0.476951  \n",
      "min      0.078000   21.000000    0.000000  \n",
      "25%      0.243750   24.000000    0.000000  \n",
      "50%      0.372500   29.000000    0.000000  \n",
      "75%      0.626250   41.000000    1.000000  \n",
      "max      2.420000   81.000000    1.000000  \n"
     ]
    }
   ],
   "source": [
    "#print(data)\n",
    "print(data.describe())"
   ]
  },
  {
   "cell_type": "code",
   "execution_count": 23,
   "metadata": {},
   "outputs": [
    {
     "name": "stdout",
     "output_type": "stream",
     "text": [
      "[[<matplotlib.axes._subplots.AxesSubplot object at 0x0000027625A43518>\n",
      "  <matplotlib.axes._subplots.AxesSubplot object at 0x0000027625A78860>\n",
      "  <matplotlib.axes._subplots.AxesSubplot object at 0x0000027625AB2748>]\n",
      " [<matplotlib.axes._subplots.AxesSubplot object at 0x0000027625AE29E8>\n",
      "  <matplotlib.axes._subplots.AxesSubplot object at 0x0000027625B01C18>\n",
      "  <matplotlib.axes._subplots.AxesSubplot object at 0x0000027625B01860>]\n",
      " [<matplotlib.axes._subplots.AxesSubplot object at 0x0000027625B8F978>\n",
      "  <matplotlib.axes._subplots.AxesSubplot object at 0x0000027625BC16D8>\n",
      "  <matplotlib.axes._subplots.AxesSubplot object at 0x0000027625BF6748>]]\n"
     ]
    }
   ],
   "source": [
    "print(data.hist())"
   ]
  },
  {
   "cell_type": "code",
   "execution_count": 24,
   "metadata": {},
   "outputs": [
    {
     "data": {
      "text/plain": [
       "class\n",
       "0    [[AxesSubplot(0.125,0.670278;0.215278x0.209722...\n",
       "1    [[AxesSubplot(0.125,0.670278;0.215278x0.209722...\n",
       "dtype: object"
      ]
     },
     "execution_count": 24,
     "metadata": {},
     "output_type": "execute_result"
    }
   ],
   "source": [
    "data.groupby('class').hist()"
   ]
  },
  {
   "cell_type": "code",
   "execution_count": 19,
   "metadata": {},
   "outputs": [
    {
     "ename": "OptionError",
     "evalue": "'You can only set the value of existing options'",
     "output_type": "error",
     "traceback": [
      "\u001b[1;31m---------------------------------------------------------------------------\u001b[0m",
      "\u001b[1;31mOptionError\u001b[0m                               Traceback (most recent call last)",
      "\u001b[1;32m<ipython-input-19-b85a2fddd9c4>\u001b[0m in \u001b[0;36m<module>\u001b[1;34m()\u001b[0m\n\u001b[0;32m      1\u001b[0m \u001b[1;32mimport\u001b[0m \u001b[0mmatplotlib\u001b[0m\u001b[1;33m.\u001b[0m\u001b[0mpyplot\u001b[0m \u001b[1;32mas\u001b[0m \u001b[0mplt\u001b[0m\u001b[1;33m\u001b[0m\u001b[0m\n\u001b[1;32m----> 2\u001b[1;33m \u001b[0mpd\u001b[0m\u001b[1;33m.\u001b[0m\u001b[0moptions\u001b[0m\u001b[1;33m.\u001b[0m\u001b[0mdisplay\u001b[0m\u001b[1;33m.\u001b[0m\u001b[0mmpl_style\u001b[0m \u001b[1;33m=\u001b[0m \u001b[1;34m'default'\u001b[0m\u001b[1;33m\u001b[0m\u001b[0m\n\u001b[0m\u001b[0;32m      3\u001b[0m \u001b[0mdata\u001b[0m\u001b[1;33m.\u001b[0m\u001b[0mboxplot\u001b[0m\u001b[1;33m(\u001b[0m\u001b[1;33m)\u001b[0m\u001b[1;33m\u001b[0m\u001b[0m\n",
      "\u001b[1;32mc:\\users\\vidhi\\appdata\\local\\programs\\python\\python36\\lib\\site-packages\\pandas\\core\\config.py\u001b[0m in \u001b[0;36m__setattr__\u001b[1;34m(self, key, val)\u001b[0m\n\u001b[0;32m    190\u001b[0m             \u001b[0m_set_option\u001b[0m\u001b[1;33m(\u001b[0m\u001b[0mprefix\u001b[0m\u001b[1;33m,\u001b[0m \u001b[0mval\u001b[0m\u001b[1;33m)\u001b[0m\u001b[1;33m\u001b[0m\u001b[0m\n\u001b[0;32m    191\u001b[0m         \u001b[1;32melse\u001b[0m\u001b[1;33m:\u001b[0m\u001b[1;33m\u001b[0m\u001b[0m\n\u001b[1;32m--> 192\u001b[1;33m             \u001b[1;32mraise\u001b[0m \u001b[0mOptionError\u001b[0m\u001b[1;33m(\u001b[0m\u001b[1;34m\"You can only set the value of existing options\"\u001b[0m\u001b[1;33m)\u001b[0m\u001b[1;33m\u001b[0m\u001b[0m\n\u001b[0m\u001b[0;32m    193\u001b[0m \u001b[1;33m\u001b[0m\u001b[0m\n\u001b[0;32m    194\u001b[0m     \u001b[1;32mdef\u001b[0m \u001b[0m__getattr__\u001b[0m\u001b[1;33m(\u001b[0m\u001b[0mself\u001b[0m\u001b[1;33m,\u001b[0m \u001b[0mkey\u001b[0m\u001b[1;33m)\u001b[0m\u001b[1;33m:\u001b[0m\u001b[1;33m\u001b[0m\u001b[0m\n",
      "\u001b[1;31mOptionError\u001b[0m: 'You can only set the value of existing options'"
     ]
    }
   ],
   "source": [
    "import matplotlib.pyplot as plt\n",
    "pd.options.display.mpl_style = 'default' \n",
    "data.boxplot()"
   ]
  },
  {
   "cell_type": "code",
   "execution_count": 28,
   "metadata": {},
   "outputs": [
    {
     "data": {
      "text/plain": [
       "array([[<matplotlib.axes._subplots.AxesSubplot object at 0x00000276286E3278>,\n",
       "        <matplotlib.axes._subplots.AxesSubplot object at 0x0000027628709E48>,\n",
       "        <matplotlib.axes._subplots.AxesSubplot object at 0x0000027628742D68>,\n",
       "        <matplotlib.axes._subplots.AxesSubplot object at 0x000002762876CBE0>,\n",
       "        <matplotlib.axes._subplots.AxesSubplot object at 0x00000276287B2978>,\n",
       "        <matplotlib.axes._subplots.AxesSubplot object at 0x00000276287B29B0>,\n",
       "        <matplotlib.axes._subplots.AxesSubplot object at 0x0000027628821128>,\n",
       "        <matplotlib.axes._subplots.AxesSubplot object at 0x000002762885CC18>,\n",
       "        <matplotlib.axes._subplots.AxesSubplot object at 0x0000027628890438>],\n",
       "       [<matplotlib.axes._subplots.AxesSubplot object at 0x00000276288C6438>,\n",
       "        <matplotlib.axes._subplots.AxesSubplot object at 0x0000027628900908>,\n",
       "        <matplotlib.axes._subplots.AxesSubplot object at 0x0000027628939E48>,\n",
       "        <matplotlib.axes._subplots.AxesSubplot object at 0x0000027628966B00>,\n",
       "        <matplotlib.axes._subplots.AxesSubplot object at 0x00000276289A5438>,\n",
       "        <matplotlib.axes._subplots.AxesSubplot object at 0x00000276289DF4A8>,\n",
       "        <matplotlib.axes._subplots.AxesSubplot object at 0x0000027628A174A8>,\n",
       "        <matplotlib.axes._subplots.AxesSubplot object at 0x0000027628A524A8>,\n",
       "        <matplotlib.axes._subplots.AxesSubplot object at 0x0000027628A77F28>],\n",
       "       [<matplotlib.axes._subplots.AxesSubplot object at 0x0000027628AB2F98>,\n",
       "        <matplotlib.axes._subplots.AxesSubplot object at 0x0000027628AEAF98>,\n",
       "        <matplotlib.axes._subplots.AxesSubplot object at 0x0000027628B21F98>,\n",
       "        <matplotlib.axes._subplots.AxesSubplot object at 0x0000027628B59C18>,\n",
       "        <matplotlib.axes._subplots.AxesSubplot object at 0x0000027628B8FC88>,\n",
       "        <matplotlib.axes._subplots.AxesSubplot object at 0x0000027628BC8C88>,\n",
       "        <matplotlib.axes._subplots.AxesSubplot object at 0x0000027628BFFBA8>,\n",
       "        <matplotlib.axes._subplots.AxesSubplot object at 0x0000027628C12AC8>,\n",
       "        <matplotlib.axes._subplots.AxesSubplot object at 0x0000027629C3F6D8>],\n",
       "       [<matplotlib.axes._subplots.AxesSubplot object at 0x0000027629C789E8>,\n",
       "        <matplotlib.axes._subplots.AxesSubplot object at 0x0000027629C95C18>,\n",
       "        <matplotlib.axes._subplots.AxesSubplot object at 0x0000027629CE9978>,\n",
       "        <matplotlib.axes._subplots.AxesSubplot object at 0x0000027629D1D198>,\n",
       "        <matplotlib.axes._subplots.AxesSubplot object at 0x0000027629D57198>,\n",
       "        <matplotlib.axes._subplots.AxesSubplot object at 0x0000027629D8F668>,\n",
       "        <matplotlib.axes._subplots.AxesSubplot object at 0x0000027629DC8668>,\n",
       "        <matplotlib.axes._subplots.AxesSubplot object at 0x0000027629D64F60>,\n",
       "        <matplotlib.axes._subplots.AxesSubplot object at 0x0000027629E27C18>],\n",
       "       [<matplotlib.axes._subplots.AxesSubplot object at 0x0000027629E6C128>,\n",
       "        <matplotlib.axes._subplots.AxesSubplot object at 0x0000027629EA7128>,\n",
       "        <matplotlib.axes._subplots.AxesSubplot object at 0x0000027629EE0048>,\n",
       "        <matplotlib.axes._subplots.AxesSubplot object at 0x0000027629F096D8>,\n",
       "        <matplotlib.axes._subplots.AxesSubplot object at 0x0000027629F3FBA8>,\n",
       "        <matplotlib.axes._subplots.AxesSubplot object at 0x0000027629F79BA8>,\n",
       "        <matplotlib.axes._subplots.AxesSubplot object at 0x0000027629FB3AC8>,\n",
       "        <matplotlib.axes._subplots.AxesSubplot object at 0x0000027629FE66D8>,\n",
       "        <matplotlib.axes._subplots.AxesSubplot object at 0x000002762A01F748>],\n",
       "       [<matplotlib.axes._subplots.AxesSubplot object at 0x000002762A0596D8>,\n",
       "        <matplotlib.axes._subplots.AxesSubplot object at 0x000002762A0916D8>,\n",
       "        <matplotlib.axes._subplots.AxesSubplot object at 0x000002762A063438>,\n",
       "        <matplotlib.axes._subplots.AxesSubplot object at 0x00000276280336A0>,\n",
       "        <matplotlib.axes._subplots.AxesSubplot object at 0x000002762A0D47B8>,\n",
       "        <matplotlib.axes._subplots.AxesSubplot object at 0x000002762A11B7B8>,\n",
       "        <matplotlib.axes._subplots.AxesSubplot object at 0x000002762A153748>,\n",
       "        <matplotlib.axes._subplots.AxesSubplot object at 0x000002762A1843C8>,\n",
       "        <matplotlib.axes._subplots.AxesSubplot object at 0x000002762A1BA438>],\n",
       "       [<matplotlib.axes._subplots.AxesSubplot object at 0x000002762A1F7358>,\n",
       "        <matplotlib.axes._subplots.AxesSubplot object at 0x000002762A22F358>,\n",
       "        <matplotlib.axes._subplots.AxesSubplot object at 0x000002762A200908>,\n",
       "        <matplotlib.axes._subplots.AxesSubplot object at 0x000002762A290F98>,\n",
       "        <matplotlib.axes._subplots.AxesSubplot object at 0x000002762A2CBF98>,\n",
       "        <matplotlib.axes._subplots.AxesSubplot object at 0x000002762A2FFEB8>,\n",
       "        <matplotlib.axes._subplots.AxesSubplot object at 0x000002762A339EB8>,\n",
       "        <matplotlib.axes._subplots.AxesSubplot object at 0x000002762A371828>,\n",
       "        <matplotlib.axes._subplots.AxesSubplot object at 0x000002762A3A8828>],\n",
       "       [<matplotlib.axes._subplots.AxesSubplot object at 0x000002762A3E1CF8>,\n",
       "        <matplotlib.axes._subplots.AxesSubplot object at 0x000002762A418CF8>,\n",
       "        <matplotlib.axes._subplots.AxesSubplot object at 0x000002762A4483C8>,\n",
       "        <matplotlib.axes._subplots.AxesSubplot object at 0x000002762A485828>,\n",
       "        <matplotlib.axes._subplots.AxesSubplot object at 0x000002762A4BE7B8>,\n",
       "        <matplotlib.axes._subplots.AxesSubplot object at 0x000002762A4F87B8>,\n",
       "        <matplotlib.axes._subplots.AxesSubplot object at 0x000002762A530748>,\n",
       "        <matplotlib.axes._subplots.AxesSubplot object at 0x000002762A562438>,\n",
       "        <matplotlib.axes._subplots.AxesSubplot object at 0x000002762A59B4A8>],\n",
       "       [<matplotlib.axes._subplots.AxesSubplot object at 0x000002762A5D63C8>,\n",
       "        <matplotlib.axes._subplots.AxesSubplot object at 0x000002762A6113C8>,\n",
       "        <matplotlib.axes._subplots.AxesSubplot object at 0x000002762A644048>,\n",
       "        <matplotlib.axes._subplots.AxesSubplot object at 0x000002762A67C0B8>,\n",
       "        <matplotlib.axes._subplots.AxesSubplot object at 0x000002762A6B60B8>,\n",
       "        <matplotlib.axes._subplots.AxesSubplot object at 0x000002762A6ED0B8>,\n",
       "        <matplotlib.axes._subplots.AxesSubplot object at 0x000002762A6CA898>,\n",
       "        <matplotlib.axes._subplots.AxesSubplot object at 0x000002762A750C18>,\n",
       "        <matplotlib.axes._subplots.AxesSubplot object at 0x000002762A78AC18>]], dtype=object)"
      ]
     },
     "execution_count": 28,
     "metadata": {},
     "output_type": "execute_result"
    }
   ],
   "source": [
    "from pandas.plotting import scatter_matrix\n",
    "scatter_matrix(data)"
   ]
  },
  {
   "cell_type": "code",
   "execution_count": 51,
   "metadata": {},
   "outputs": [
    {
     "name": "stdout",
     "output_type": "stream",
     "text": [
      "0    val1\n",
      "1    val2\n",
      "2    val3\n",
      "dtype: object\n",
      "col1    val1\n",
      "col2    val2\n",
      "dtype: object\n",
      "Index(['col1', 'col2'], dtype='object')\n",
      "['val1' 'val2']\n"
     ]
    }
   ],
   "source": [
    "#series_data = pd.Series(data=data[\"preg\"])\n",
    "\n",
    "dictTemp = {'col1':'val1','col2':'val2'}\n",
    "lstVals = ['val1','val2','val3']\n",
    "series_lstVals = pd.Series(data=lstVals)\n",
    "print(series_lstVals)\n",
    "series_dictTemp = pd.Series(data=dictTemp)\n",
    "print(series_dictTemp)\n",
    "print(series_dictTemp.index)\n",
    "print(series_dictTemp.values)"
   ]
  },
  {
   "cell_type": "code",
   "execution_count": 65,
   "metadata": {},
   "outputs": [
    {
     "data": {
      "text/plain": [
       "0      1\n",
       "1      z\n",
       "2      5\n",
       "3    NaN\n",
       "4     19\n",
       "5      a\n",
       "dtype: object"
      ]
     },
     "execution_count": 65,
     "metadata": {},
     "output_type": "execute_result"
    }
   ],
   "source": [
    "import numpy \n",
    "s = pd.Series([1,'z',5,numpy.nan,19,'a'])\n",
    "s"
   ]
  },
  {
   "cell_type": "code",
   "execution_count": 85,
   "metadata": {},
   "outputs": [
    {
     "name": "stdout",
     "output_type": "stream",
     "text": [
      "DatetimeIndex(['2018-01-01', '2018-01-02', '2018-01-03', '2018-01-04',\n",
      "               '2018-01-05', '2018-01-06'],\n",
      "              dtype='datetime64[ns]', freq='D')\n",
      "                   x         y         z\n",
      "2018-01-01  0.788234  0.270889  0.751455\n",
      "2018-01-02  0.784005  0.407926  0.227960\n",
      "2018-01-03  0.450843  0.405407  0.061757\n",
      "2018-01-04  0.143222  0.880716  0.060288\n",
      "2018-01-05  0.516208  0.469951  0.646536\n",
      "2018-01-06  0.544677  0.535225  0.421877\n",
      "x    float64\n",
      "y    float64\n",
      "z    float64\n",
      "dtype: object\n"
     ]
    }
   ],
   "source": [
    "dt = pd.date_range('20180101',periods=6)\n",
    "print(dt)\n",
    "df1 = pd.DataFrame(numpy.random.rand(6,3),index=dt,columns=list('xyz'))\n",
    "print(df1)\n",
    "print(df1.dtypes)\n",
    "#print(dataFrame.<TAB>)\n"
   ]
  },
  {
   "cell_type": "code",
   "execution_count": 83,
   "metadata": {},
   "outputs": [],
   "source": [
    "#dataFrame = pd.DataFrame({'col1' : 10,'col2' : 'test'})\n",
    "#dataFrame"
   ]
  },
  {
   "cell_type": "code",
   "execution_count": 91,
   "metadata": {},
   "outputs": [
    {
     "name": "stdout",
     "output_type": "stream",
     "text": [
      "DatetimeIndex(['2018-01-01', '2018-01-02', '2018-01-03', '2018-01-04',\n",
      "               '2018-01-05', '2018-01-06'],\n",
      "              dtype='datetime64[ns]', freq='D')\n",
      "Index(['x', 'y', 'z'], dtype='object')\n",
      "[[ 0.78823441  0.27088942  0.75145452]\n",
      " [ 0.78400526  0.40792612  0.22796039]\n",
      " [ 0.45084313  0.40540727  0.06175661]\n",
      " [ 0.14322225  0.88071627  0.06028835]\n",
      " [ 0.51620766  0.46995086  0.64653607]\n",
      " [ 0.54467688  0.53522532  0.42187651]]\n",
      "<bound method NDFrame.head of                    x         y         z\n",
      "2018-01-01  0.788234  0.270889  0.751455\n",
      "2018-01-02  0.784005  0.407926  0.227960\n",
      "2018-01-03  0.450843  0.405407  0.061757\n",
      "2018-01-04  0.143222  0.880716  0.060288\n",
      "2018-01-05  0.516208  0.469951  0.646536\n",
      "2018-01-06  0.544677  0.535225  0.421877>\n",
      "   2018-01-01  2018-01-02  2018-01-03  2018-01-04  2018-01-05  2018-01-06\n",
      "x    0.788234    0.784005    0.450843    0.143222    0.516208    0.544677\n",
      "y    0.270889    0.407926    0.405407    0.880716    0.469951    0.535225\n",
      "z    0.751455    0.227960    0.061757    0.060288    0.646536    0.421877\n"
     ]
    }
   ],
   "source": [
    "print(df1.index)\n",
    "print(df1.columns)\n",
    "print(df1.values)\n",
    "print(df1.head)\n",
    "#T - transpose / pivote\n",
    "print(df1.T)\n"
   ]
  },
  {
   "cell_type": "code",
   "execution_count": 102,
   "metadata": {},
   "outputs": [
    {
     "name": "stdout",
     "output_type": "stream",
     "text": [
      "                   x         y         z\n",
      "2018-01-01  0.788234  0.270889  0.751455\n",
      "2018-01-02  0.784005  0.407926  0.227960\n",
      "2018-01-03  0.450843  0.405407  0.061757\n",
      "2018-01-04  0.143222  0.880716  0.060288\n",
      "2018-01-05  0.516208  0.469951  0.646536\n",
      "2018-01-06  0.544677  0.535225  0.421877\n",
      "                   z         y         x\n",
      "2018-01-01  0.751455  0.270889  0.788234\n",
      "2018-01-02  0.227960  0.407926  0.784005\n",
      "2018-01-03  0.061757  0.405407  0.450843\n",
      "2018-01-04  0.060288  0.880716  0.143222\n",
      "2018-01-05  0.646536  0.469951  0.516208\n",
      "2018-01-06  0.421877  0.535225  0.544677\n"
     ]
    }
   ],
   "source": [
    "#sorting axis\n",
    "print(df1.sort_index(axis=1))\n",
    "print(df1.sort_index(axis=1,ascending=False))"
   ]
  },
  {
   "cell_type": "code",
   "execution_count": 108,
   "metadata": {},
   "outputs": [
    {
     "name": "stdout",
     "output_type": "stream",
     "text": [
      "                   x         y         z\n",
      "2018-01-01  0.788234  0.270889  0.751455\n",
      "2018-01-02  0.784005  0.407926  0.227960\n",
      "2018-01-06  0.544677  0.535225  0.421877\n",
      "2018-01-05  0.516208  0.469951  0.646536\n",
      "2018-01-03  0.450843  0.405407  0.061757\n",
      "2018-01-04  0.143222  0.880716  0.060288\n",
      "                   x         y         z\n",
      "2018-01-04  0.143222  0.880716  0.060288\n",
      "2018-01-03  0.450843  0.405407  0.061757\n",
      "2018-01-02  0.784005  0.407926  0.227960\n",
      "2018-01-06  0.544677  0.535225  0.421877\n",
      "2018-01-05  0.516208  0.469951  0.646536\n",
      "2018-01-01  0.788234  0.270889  0.751455\n"
     ]
    }
   ],
   "source": [
    "#sorting values\n",
    "print(df1.sort_values(by='x',ascending=False))\n",
    "print(df1.sort_values(by='z'))"
   ]
  }
 ],
 "metadata": {
  "kernelspec": {
   "display_name": "Python 3",
   "language": "python",
   "name": "python3"
  },
  "language_info": {
   "codemirror_mode": {
    "name": "ipython",
    "version": 3
   },
   "file_extension": ".py",
   "mimetype": "text/x-python",
   "name": "python",
   "nbconvert_exporter": "python",
   "pygments_lexer": "ipython3",
   "version": "3.6.3"
  }
 },
 "nbformat": 4,
 "nbformat_minor": 2
}
